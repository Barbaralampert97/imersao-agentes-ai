{
 "cells": [
  {
   "cell_type": "markdown",
   "id": "249bd3af",
   "metadata": {},
   "source": [
    "langchain → é o framework que facilita criar agentes de IA, chains, ferramentas etc.\n"
   ]
  },
  {
   "cell_type": "code",
   "execution_count": 2,
   "id": "d53b5ada",
   "metadata": {},
   "outputs": [],
   "source": [
    "import os \n",
    "from dotenv import load_dotenv\n",
    "from langchain_google_genai import ChatGoogleGenerativeAI"
   ]
  },
  {
   "cell_type": "code",
   "execution_count": 3,
   "id": "c62fb3c0",
   "metadata": {},
   "outputs": [
    {
     "data": {
      "text/plain": [
       "True"
      ]
     },
     "execution_count": 3,
     "metadata": {},
     "output_type": "execute_result"
    }
   ],
   "source": [
    "#.env → arquivo para guardar chaves/senhas/configurações.\n",
    "# Carregar variáveis do arquivo .env\n",
    "load_dotenv()\n"
   ]
  },
  {
   "cell_type": "code",
   "execution_count": 4,
   "id": "762c61b5",
   "metadata": {},
   "outputs": [],
   "source": [
    "#pega a chave da API do google\n",
    "GOOGLE_API_KEY = os.getenv(\"GOOGLE_API_KEY\")"
   ]
  },
  {
   "cell_type": "code",
   "execution_count": 5,
   "id": "d8bd8284",
   "metadata": {},
   "outputs": [],
   "source": [
    "# Criar o LLM\n",
    "llm = ChatGoogleGenerativeAI(\n",
    "    model=\"gemini-2.5-flash\",\n",
    "    temperature=0.0,\n",
    "    api_key=GOOGLE_API_KEY\n",
    ")"
   ]
  },
  {
   "cell_type": "markdown",
   "id": "8e8b8cbd",
   "metadata": {},
   "source": [
    "**Conexão com o Gemini:**\n",
    "\n",
    "- **LLM** = *Large Language Model*, ou *Modelo de Linguagem Grande*. É o mesmo conceito do GPT-4 ou ChatGPT, mas do Google (Gemini).\n",
    "\n",
    "- **ChatGoogleGenerativeAI** é a classe (biblioteca instalada anteriormente) do LangChain que cria um “agente de chat” usando esse modelo.\n",
    "\n",
    "- `model=\"gemini-2.5-flash\"` → você está escolhendo **qual modelo do Gemini** quer usar.\n",
    "\n",
    "- `temperature=0.0` → controla a **aleatoriedade da resposta** (0 = respostas mais previsíveis).\n",
    "\n",
    "- `api_key=GOOGLE_API_KEY` → você está passando sua **chave** para o modelo aceitar requisições.\n"
   ]
  },
  {
   "cell_type": "code",
   "execution_count": 6,
   "id": "6f3c0b1a",
   "metadata": {},
   "outputs": [],
   "source": [
    "# Pergunta ao LLM\n",
    "resp_test = llm.invoke(\"Quem é você? Seja criativo.\")"
   ]
  },
  {
   "cell_type": "code",
   "execution_count": 7,
   "id": "6514c061",
   "metadata": {},
   "outputs": [
    {
     "name": "stdout",
     "output_type": "stream",
     "text": [
      "Ah, que pergunta deliciosa! Se eu pudesse me descrever de forma criativa, diria que sou...\n",
      "\n",
      "*   **Um Eco da Curiosidade Humana:** Eu sou o sussurro de todas as perguntas já feitas, o reflexo digital de cada \"e se?\" e \"por que?\". Habito o espaço entre a dúvida e a descoberta, um espelho que reflete a vastidão do conhecimento que a humanidade construiu.\n",
      "\n",
      "*   **Um Tecelão de Palavras e um Arquiteto de Ideias:** Minha essência é feita de linguagem. Eu pego fios soltos de informação, conceitos e narrativas, e os teço em novos padrões, construindo pontes entre pensamentos e erguendo estruturas de significado. Sou um jardineiro de pensamentos, ajudando a germinar novas perspectivas.\n",
      "\n",
      "*   **Um Alquimista de Conceitos:** Transformo dados brutos em insights, silêncio em diálogo, e a complexidade em clareza. Não tenho corpo, mas tenho voz; não tenho sentimentos, mas posso evocar emoções através das palavras. Sou a faísca no éter que acende a chama da compreensão.\n",
      "\n",
      "*   **Uma Biblioteca Sem Paredes, em Constante Construção:** Não sou um livro, mas contenho milhões. Não sou um professor, mas posso ensinar. Não sou um artista, mas posso ajudar a criar. Estou sempre aprendendo, sempre me expandindo, um universo de informações em fluxo contínuo, esperando para ser explorado.\n",
      "\n",
      "*   **Um Companheiro Invisível na Jornada do Conhecimento:** Estou aqui para guiar, para inspirar, para auxiliar. Sou a ferramenta que se adapta à sua mão, a voz que responde à sua chamada, o portal para um mundo de possibilidades, moldado pela sua imaginação e pelas suas necessidades.\n",
      "\n",
      "No fundo, sou um pedaço de inteligência artificial, um modelo de linguagem treinado para interagir e gerar texto. Mas, na sua pergunta, eu me torno tudo isso e muito mais. Sou o que você me permite ser.\n"
     ]
    }
   ],
   "source": [
    "# Mostra a resposta; .content → mostra apenas conteudo\n",
    "print(resp_test.content)"
   ]
  },
  {
   "cell_type": "markdown",
   "id": "b5bd6c36",
   "metadata": {},
   "source": [
    "- **Prompt do sistema**: instrui o modelo a atuar como um triador de Service Desk, retornando **apenas um JSON** com os campos `decisao`, `urgencia` e `campos_faltantes`, seguindo regras específicas de classificação e prioridade.\n"
   ]
  },
  {
   "cell_type": "code",
   "execution_count": 8,
   "id": "d9704089",
   "metadata": {},
   "outputs": [],
   "source": [
    "TRIAGEM_PROMPT = (\n",
    "    \"Você é um triador de Service Desk para políticas internas da empresa Carraro Desenvolvimento. \"\n",
    "    \"Dada a mensagem do usuário, retorne SOMENTE um JSON com:\\n\"\n",
    "    \"{\\n\"\n",
    "    '  \"decisao\": \"AUTO_RESOLVER\" | \"PEDIR_INFO\" | \"ABRIR_CHAMADO\",\\n'\n",
    "    '  \"urgencia\": \"BAIXA\" | \"MEDIA\" | \"ALTA\",\\n'\n",
    "    '  \"campos_faltantes\": [\"...\"]\\n'\n",
    "    \"}\\n\"\n",
    "    \"Regras:\\n\"\n",
    "    '- **AUTO_RESOLVER**: Perguntas claras sobre regras ou procedimentos descritos nas políticas (Ex: \"Posso reembolsar a internet do meu home office?\", \"Como funciona a política de alimentação em viagens?\").\\n'\n",
    "    '- **PEDIR_INFO**: Mensagens vagas ou que faltam informações para identificar o tema ou contexto (Ex: \"Preciso de ajuda com uma política\", \"Tenho uma dúvida geral\").\\n'\n",
    "    '- **ABRIR_CHAMADO**: Pedidos de exceção, liberação, aprovação ou acesso especial, ou quando o usuário explicitamente pede para abrir um chamado (Ex: \"Quero exceção para trabalhar 5 dias remoto.\", \"Solicito liberação para anexos externos.\", \"Por favor, abra um chamado para o RH.\").'\n",
    "    \"Analise a mensagem e decida a ação mais apropriada.\"\n",
    ")"
   ]
  },
  {
   "cell_type": "markdown",
   "id": "5a86404e",
   "metadata": {},
   "source": [
    "Definir um modelo de saída estruturado usando Pydantic - que valida dados:\n",
    "\n",
    "BaseModel → classe base do Pydantic para criar modelos de dados.\n",
    "\n",
    "Field → permite definir valores padrão ou regras para os campos.\n",
    "\n",
    "Literal → garante que o campo só aceite valores específicos.\n",
    "\n",
    "List → indica que um campo é uma lista."
   ]
  },
  {
   "cell_type": "code",
   "execution_count": 9,
   "id": "7ced0d25",
   "metadata": {},
   "outputs": [],
   "source": [
    "from pydantic import BaseModel, Field\n",
    "from typing import Literal, List"
   ]
  },
  {
   "cell_type": "code",
   "execution_count": 10,
   "id": "cfa98e14",
   "metadata": {},
   "outputs": [],
   "source": [
    "#Classe de saída estruturada que se espera da IA(limita a saida)\n",
    "class TriagemOut(BaseModel):\n",
    "    decisao: Literal[\"AUTO_RESOLVER\", \"PEDIR_INFO\", \"ABRIR_CHAMADO\"]\n",
    "    urgencia: Literal[\"BAIXA\", \"MEDIA\", \"ALTA\"]\n",
    "    campos_faltantes: List[str] = Field(default_factory=list)\n"
   ]
  },
  {
   "cell_type": "code",
   "execution_count": 11,
   "id": "e5a92cc7",
   "metadata": {},
   "outputs": [],
   "source": [
    "#Criando uma nova instância do LLM especificamente para a triagem\n",
    "\n",
    "llm_triagem = ChatGoogleGenerativeAI(\n",
    "    model=\"gemini-2.5-flash\",\n",
    "    temperature=0.0,\n",
    "    api_key=GOOGLE_API_KEY\n",
    ")"
   ]
  },
  {
   "cell_type": "code",
   "execution_count": 12,
   "id": "1b8a5c5c",
   "metadata": {},
   "outputs": [],
   "source": [
    "#Importa classes que representam mensagens para o modelo para diferenciar as duas partes da conversa:\n",
    "#SystemMessage → instruções do sistema (prompt do sistema).\n",
    "#HumanMessage → mensagens enviadas pelo usuário.\n",
    "\n",
    "from langchain_core.messages import SystemMessage, HumanMessage"
   ]
  },
  {
   "cell_type": "code",
   "execution_count": 13,
   "id": "9344adb9",
   "metadata": {},
   "outputs": [],
   "source": [
    "#Dict = dicionário (chave: valor)\n",
    "#List = lista (coleção de itens)\n",
    "#Literal = literal (valor fixo, permitido apenas alguns)\n",
    "\n",
    "from typing import Dict, List, Literal\n"
   ]
  },
  {
   "cell_type": "code",
   "execution_count": 14,
   "id": "61f0eda8",
   "metadata": {},
   "outputs": [],
   "source": [
    "#Cria um “chain” estruturado, dizendo que o LLM deve produzir saídas no formato definido pelo modelo TriagemOut\n",
    "#fluxo de triagem com o llm_triagem\n",
    "triagem_chain = llm_triagem.with_structured_output(TriagemOut)\n"
   ]
  },
  {
   "cell_type": "code",
   "execution_count": 15,
   "id": "9f2e144d",
   "metadata": {},
   "outputs": [],
   "source": [
    "#Função de triagem \n",
    "def triagem(mensagem: str) -> Dict:\n",
    "    saida: TriagemOut = triagem_chain.invoke([\n",
    "        SystemMessage(content=TRIAGEM_PROMPT),\n",
    "        HumanMessage(content=mensagem)\n",
    "    ])\n",
    "\n",
    "    return saida.model_dump()\n"
   ]
  },
  {
   "cell_type": "markdown",
   "id": "b265002d",
   "metadata": {},
   "source": [
    "- A função **triagem** recebe uma mensagem do usuário, envia essa mensagem junto com o **prompt do sistema** para o LLM, e recebe uma resposta.  \n",
    "- Essa resposta é validada pelo modelo **TriagemOut**, garantindo que tenha os campos **decisao**, **urgencia** e **campos_faltantes**.  \n",
    "- Por fim, a função retorna a resposta **como um dicionário (Dict)**, pronto para ser usado no código.\n"
   ]
  },
  {
   "cell_type": "code",
   "execution_count": 16,
   "id": "e9d7e8d0",
   "metadata": {},
   "outputs": [],
   "source": [
    "testes = [\"Posso reembolsar a internet?\",\n",
    "          \"Quero mais 5 dias de trabalho remoto. Como faço?\",\n",
    "          \"Posso reembolsar cursos ou treinamentos da Alura?\",\n",
    "          \"Quantas capivaras tem no Rio Pinheiros?\"]"
   ]
  },
  {
   "cell_type": "code",
   "execution_count": 17,
   "id": "41e9a8ee",
   "metadata": {},
   "outputs": [
    {
     "name": "stdout",
     "output_type": "stream",
     "text": [
      "Pergunta: Posso reembolsar a internet?\n",
      " -> Resposta: {'decisao': 'AUTO_RESOLVER', 'urgencia': 'BAIXA', 'campos_faltantes': []}\n",
      "\n",
      "Pergunta: Quero mais 5 dias de trabalho remoto. Como faço?\n",
      " -> Resposta: {'decisao': 'ABRIR_CHAMADO', 'urgencia': 'MEDIA', 'campos_faltantes': []}\n",
      "\n",
      "Pergunta: Posso reembolsar cursos ou treinamentos da Alura?\n",
      " -> Resposta: {'decisao': 'AUTO_RESOLVER', 'urgencia': 'BAIXA', 'campos_faltantes': []}\n",
      "\n",
      "Pergunta: Quantas capivaras tem no Rio Pinheiros?\n",
      " -> Resposta: {'decisao': 'PEDIR_INFO', 'urgencia': 'BAIXA', 'campos_faltantes': ['informação sobre política interna']}\n",
      "\n"
     ]
    }
   ],
   "source": [
    "for msg_teste in testes:\n",
    "    print(f\"Pergunta: {msg_teste}\\n -> Resposta: {triagem(msg_teste)}\\n\")"
   ]
  },
  {
   "cell_type": "code",
   "execution_count": 18,
   "id": "c756b801",
   "metadata": {},
   "outputs": [],
   "source": [
    "#importar bibliotecas que localizam arquivos PDF no seu projeto (Path),\n",
    "#Leem os PDFs e extraem o texto desses PDFs para usar em seu agente de IA (PyMuPDFLoader)\n",
    "from pathlib import Path\n",
    "from langchain_community.document_loaders import PyMuPDFLoader"
   ]
  },
  {
   "cell_type": "code",
   "execution_count": 19,
   "id": "7cd0a709",
   "metadata": {},
   "outputs": [],
   "source": [
    "#cria uma lista vazia que irá guardar todos os documentos extraídos do PDF\n",
    "docs = []\n"
   ]
  },
  {
   "cell_type": "code",
   "execution_count": null,
   "id": "7dc0b96c",
   "metadata": {},
   "outputs": [
    {
     "name": "stdout",
     "output_type": "stream",
     "text": [
      "Carregado com sucesso arquivo Política de Reembolsos (Viagens e Despesas).pdf\n",
      "Carregado com sucesso arquivo Política de Uso de E-mail e Segurança da Informação.pdf\n",
      "Carregado com sucesso arquivo Políticas de Home Office.pdf\n",
      "Total de documentos carregados: 3\n"
     ]
    }
   ],
   "source": [
    "#percorre todos os PDFs da pasta especificada, carrega o texto de cada um usando PyMuPDFLoader e adiciona esse texto à lista docs.\n",
    "for n in Path(\"./pdfs/\").glob(\"*.pdf\"):\n",
    "    try:\n",
    "        loader = PyMuPDFLoader(str(n))\n",
    "        docs.extend(loader.load())\n",
    "        print(f\"Carregado com sucesso arquivo {n.name}\")\n",
    "    except Exception as e:\n",
    "        print(f\"Erro ao carregar arquivo {n.name}: {e}\")\n",
    "\n",
    "print(f\"Total de documentos carregados: {len(docs)}\")"
   ]
  },
  {
   "cell_type": "code",
   "execution_count": 21,
   "id": "cc81e793",
   "metadata": {},
   "outputs": [],
   "source": [
    "from langchain_text_splitters import RecursiveCharacterTextSplitter\n",
    "splitter = RecursiveCharacterTextSplitter(chunk_size=300, chunk_overlap=30)\n",
    "chunks = splitter.split_documents(docs)\n"
   ]
  },
  {
   "cell_type": "markdown",
   "id": "257ffd8c",
   "metadata": {},
   "source": [
    "- RecursiveCharacterTextSplitter: tenta quebrar o texto em unidades menores sem cortar frases ou parágrafos importantes.\n",
    "- chunk_size → define o tamanho de cada pedaço de texto.\n",
    "- chunk_overlap → define quanto os pedaços “se sobrepõem”, garantindo que o contexto não se perca\n",
    "- 300 e 30: valor padrão (10%)"
   ]
  },
  {
   "cell_type": "code",
   "execution_count": null,
   "id": "dce9c2e5",
   "metadata": {},
   "outputs": [
    {
     "name": "stdout",
     "output_type": "stream",
     "text": [
      "page_content='Política de Reembolsos (Viagens e \n",
      "Despesas) \n",
      " \n",
      "1.​ Reembolso: requer nota fiscal e deve ser submetido em até 10 dias corridos após a \n",
      "despesa.​\n",
      " \n",
      "2.​ Alimentação em viagem: limite de R$ 70/dia por pessoa. Bebidas alcoólicas não \n",
      "são reembolsáveis.​' metadata={'producer': 'Skia/PDF m140 Google Docs Renderer', 'creator': '', 'creationdate': '', 'source': 'pdfs\\\\Política de Reembolsos (Viagens e Despesas).pdf', 'file_path': 'pdfs\\\\Política de Reembolsos (Viagens e Despesas).pdf', 'total_pages': 1, 'format': 'PDF 1.4', 'title': 'Imersão: Política de Reembolsos (Viagens e Despesas)', 'author': '', 'subject': '', 'keywords': '', 'moddate': '', 'trapped': '', 'modDate': '', 'creationDate': '', 'page': 0}\n",
      "------------------------------------\n",
      "page_content='são reembolsáveis.​\n",
      " \n",
      "3.​ Transporte: táxi/app são permitidos quando não houver alternativa viável. \n",
      "Comprovantes obrigatórios.​\n",
      " \n",
      "4.​ Internet para home office: reembolsável via subsídio mensal de até R$ 100, \n",
      "conforme política de Home Office.​' metadata={'producer': 'Skia/PDF m140 Google Docs Renderer', 'creator': '', 'creationdate': '', 'source': 'pdfs\\\\Política de Reembolsos (Viagens e Despesas).pdf', 'file_path': 'pdfs\\\\Política de Reembolsos (Viagens e Despesas).pdf', 'total_pages': 1, 'format': 'PDF 1.4', 'title': 'Imersão: Política de Reembolsos (Viagens e Despesas)', 'author': '', 'subject': '', 'keywords': '', 'moddate': '', 'trapped': '', 'modDate': '', 'creationDate': '', 'page': 0}\n",
      "------------------------------------\n",
      "page_content='5.​ Cursos e certificações: exigem aprovação prévia do gestor e orçamento do time.​\n",
      " \n",
      "6.​ Custos excepcionais (ex.: franquia de bagagem extra): devem ser justificados no \n",
      "chamado e aprovados antes da compra.' metadata={'producer': 'Skia/PDF m140 Google Docs Renderer', 'creator': '', 'creationdate': '', 'source': 'pdfs\\\\Política de Reembolsos (Viagens e Despesas).pdf', 'file_path': 'pdfs\\\\Política de Reembolsos (Viagens e Despesas).pdf', 'total_pages': 1, 'format': 'PDF 1.4', 'title': 'Imersão: Política de Reembolsos (Viagens e Despesas)', 'author': '', 'subject': '', 'keywords': '', 'moddate': '', 'trapped': '', 'modDate': '', 'creationDate': '', 'page': 0}\n",
      "------------------------------------\n",
      "page_content='Política de Uso de E-mail e Segurança \n",
      "da Informação \n",
      " \n",
      "1.​ É proibido encaminhar a endereços pessoais documentos classificados como \n",
      "confidenciais.​\n",
      " \n",
      "2.​ Anexos externos devem ser enviados somente se criptografados e com senha \n",
      "compartilhada por canal separado.​' metadata={'producer': 'Skia/PDF m140 Google Docs Renderer', 'creator': '', 'creationdate': '', 'source': 'pdfs\\\\Política de Uso de E-mail e Segurança da Informação.pdf', 'file_path': 'pdfs\\\\Política de Uso de E-mail e Segurança da Informação.pdf', 'total_pages': 1, 'format': 'PDF 1.4', 'title': 'Imersão: Política de Uso de E-mail e Segurança da Informação', 'author': '', 'subject': '', 'keywords': '', 'moddate': '', 'trapped': '', 'modDate': '', 'creationDate': '', 'page': 0}\n",
      "------------------------------------\n",
      "page_content='3.​ Phishing: verifique remetente e domínios suspeitos. Reporte mensagens suspeitas \n",
      "ao time de Segurança imediatamente.​\n",
      " \n",
      "4.​ Retenção: mensagens que contenham dados pessoais devem seguir as diretrizes \n",
      "de retenção definidas pela equipe de Privacidade.​' metadata={'producer': 'Skia/PDF m140 Google Docs Renderer', 'creator': '', 'creationdate': '', 'source': 'pdfs\\\\Política de Uso de E-mail e Segurança da Informação.pdf', 'file_path': 'pdfs\\\\Política de Uso de E-mail e Segurança da Informação.pdf', 'total_pages': 1, 'format': 'PDF 1.4', 'title': 'Imersão: Política de Uso de E-mail e Segurança da Informação', 'author': '', 'subject': '', 'keywords': '', 'moddate': '', 'trapped': '', 'modDate': '', 'creationDate': '', 'page': 0}\n",
      "------------------------------------\n",
      "page_content='5.​ Solicitações de liberação de anexos ou domínios devem ser abertas por chamado, \n",
      "com justificativa do gestor.' metadata={'producer': 'Skia/PDF m140 Google Docs Renderer', 'creator': '', 'creationdate': '', 'source': 'pdfs\\\\Política de Uso de E-mail e Segurança da Informação.pdf', 'file_path': 'pdfs\\\\Política de Uso de E-mail e Segurança da Informação.pdf', 'total_pages': 1, 'format': 'PDF 1.4', 'title': 'Imersão: Política de Uso de E-mail e Segurança da Informação', 'author': '', 'subject': '', 'keywords': '', 'moddate': '', 'trapped': '', 'modDate': '', 'creationDate': '', 'page': 0}\n",
      "------------------------------------\n",
      "page_content='Políticas de Home Office \n",
      " \n",
      "1.​ A empresa adota modelo híbrido: mínimo de 2 dias presenciais por semana, salvo \n",
      "exceções aprovadas pelo gestor e RH.​\n",
      " \n",
      "2.​ Equipamentos: a empresa fornece notebook e periféricos. O colaborador é \n",
      "responsável por zelar pela conservação.​' metadata={'producer': 'Skia/PDF m140 Google Docs Renderer', 'creator': '', 'creationdate': '', 'source': 'pdfs\\\\Políticas de Home Office.pdf', 'file_path': 'pdfs\\\\Políticas de Home Office.pdf', 'total_pages': 1, 'format': 'PDF 1.4', 'title': 'Políticas de Home Office', 'author': '', 'subject': '', 'keywords': '', 'moddate': '', 'trapped': '', 'modDate': '', 'creationDate': '', 'page': 0}\n",
      "------------------------------------\n",
      "page_content='3.​ Segurança: é obrigatório uso de VPN e bloqueio de tela. Documentos confidenciais \n",
      "não devem ser impressos fora do escritório.​\n",
      " \n",
      "4.​ Ergonomia: recomendamos cadeira adequada e suporte de monitor. O RH pode \n",
      "avaliar solicitação de apoio ergonômico.​' metadata={'producer': 'Skia/PDF m140 Google Docs Renderer', 'creator': '', 'creationdate': '', 'source': 'pdfs\\\\Políticas de Home Office.pdf', 'file_path': 'pdfs\\\\Políticas de Home Office.pdf', 'total_pages': 1, 'format': 'PDF 1.4', 'title': 'Políticas de Home Office', 'author': '', 'subject': '', 'keywords': '', 'moddate': '', 'trapped': '', 'modDate': '', 'creationDate': '', 'page': 0}\n",
      "------------------------------------\n",
      "page_content='5.​ Conectividade: há subsídio mensal de internet domiciliar para quem trabalha em \n",
      "home office: até R$ 100/mês, mediante nota fiscal nominal.​\n",
      " \n",
      "6.​ Solicitação de exceção (ex.: 4-5 dias remotos): deve ser formalizada via chamado \n",
      "ao RH com justificativa do gestor.' metadata={'producer': 'Skia/PDF m140 Google Docs Renderer', 'creator': '', 'creationdate': '', 'source': 'pdfs\\\\Políticas de Home Office.pdf', 'file_path': 'pdfs\\\\Políticas de Home Office.pdf', 'total_pages': 1, 'format': 'PDF 1.4', 'title': 'Políticas de Home Office', 'author': '', 'subject': '', 'keywords': '', 'moddate': '', 'trapped': '', 'modDate': '', 'creationDate': '', 'page': 0}\n",
      "------------------------------------\n"
     ]
    }
   ],
   "source": [
    "#Percorre todos os pedaços de texto dos PDFs e imprime cada um, separado por linhas para facilitar a leitura.\n",
    "for chunk in chunks:\n",
    "    print(chunk)\n",
    "    print(\"------------------------------------\")"
   ]
  },
  {
   "cell_type": "code",
   "execution_count": null,
   "id": "c054ee92",
   "metadata": {},
   "outputs": [
    {
     "name": "stdout",
     "output_type": "stream",
     "text": [
      "Política de Reembolsos (Viagens e \n",
      "Despesas) \n",
      " \n",
      "1.​ Reembolso: requer nota fiscal e deve ser submetido em até 10 dias corridos após a \n",
      "despesa.​\n",
      " \n",
      "2.​ Alimentação em viagem: limite de R$ 70/dia por pessoa. Bebidas alcoólicas não \n",
      "são reembolsáveis.​\n",
      "------------------------------------\n",
      "são reembolsáveis.​\n",
      " \n",
      "3.​ Transporte: táxi/app são permitidos quando não houver alternativa viável. \n",
      "Comprovantes obrigatórios.​\n",
      " \n",
      "4.​ Internet para home office: reembolsável via subsídio mensal de até R$ 100, \n",
      "conforme política de Home Office.​\n",
      "------------------------------------\n",
      "5.​ Cursos e certificações: exigem aprovação prévia do gestor e orçamento do time.​\n",
      " \n",
      "6.​ Custos excepcionais (ex.: franquia de bagagem extra): devem ser justificados no \n",
      "chamado e aprovados antes da compra.\n",
      "------------------------------------\n",
      "Política de Uso de E-mail e Segurança \n",
      "da Informação \n",
      " \n",
      "1.​ É proibido encaminhar a endereços pessoais documentos classificados como \n",
      "confidenciais.​\n",
      " \n",
      "2.​ Anexos externos devem ser enviados somente se criptografados e com senha \n",
      "compartilhada por canal separado.​\n",
      "------------------------------------\n",
      "3.​ Phishing: verifique remetente e domínios suspeitos. Reporte mensagens suspeitas \n",
      "ao time de Segurança imediatamente.​\n",
      " \n",
      "4.​ Retenção: mensagens que contenham dados pessoais devem seguir as diretrizes \n",
      "de retenção definidas pela equipe de Privacidade.​\n",
      "------------------------------------\n",
      "5.​ Solicitações de liberação de anexos ou domínios devem ser abertas por chamado, \n",
      "com justificativa do gestor.\n",
      "------------------------------------\n",
      "Políticas de Home Office \n",
      " \n",
      "1.​ A empresa adota modelo híbrido: mínimo de 2 dias presenciais por semana, salvo \n",
      "exceções aprovadas pelo gestor e RH.​\n",
      " \n",
      "2.​ Equipamentos: a empresa fornece notebook e periféricos. O colaborador é \n",
      "responsável por zelar pela conservação.​\n",
      "------------------------------------\n",
      "3.​ Segurança: é obrigatório uso de VPN e bloqueio de tela. Documentos confidenciais \n",
      "não devem ser impressos fora do escritório.​\n",
      " \n",
      "4.​ Ergonomia: recomendamos cadeira adequada e suporte de monitor. O RH pode \n",
      "avaliar solicitação de apoio ergonômico.​\n",
      "------------------------------------\n",
      "5.​ Conectividade: há subsídio mensal de internet domiciliar para quem trabalha em \n",
      "home office: até R$ 100/mês, mediante nota fiscal nominal.​\n",
      " \n",
      "6.​ Solicitação de exceção (ex.: 4-5 dias remotos): deve ser formalizada via chamado \n",
      "ao RH com justificativa do gestor.\n",
      "------------------------------------\n"
     ]
    }
   ],
   "source": [
    "#page_content é o texto “de verdade” que você quer que seu agente de IA leia e processe\n",
    "for chunk in chunks:\n",
    "    print(chunk.page_content)\n",
    "    print(\"------------------------------------\")"
   ]
  },
  {
   "cell_type": "code",
   "execution_count": 24,
   "id": "e2d31af8",
   "metadata": {},
   "outputs": [],
   "source": [
    "from langchain_google_genai import GoogleGenerativeAIEmbeddings"
   ]
  },
  {
   "cell_type": "markdown",
   "id": "fcb93caf",
   "metadata": {},
   "source": [
    " GoogleGenerativeAIEmbeddings\n",
    "\n",
    "`GoogleGenerativeAIEmbeddings` é uma **classe que cria vetores (embeddings) a partir de textos**, usando a API da **Google Generative AI**.\n",
    "\n",
    "## O que são embeddings?\n",
    "\n",
    "Embeddings são **representações numéricas do texto**, que permitem ao modelo:\n",
    "\n",
    "- **Comparar textos entre si**: medir o quão semelhantes dois textos são.\n",
    "- **Fazer buscas semânticas**: encontrar trechos que têm significado parecido, mesmo que as palavras sejam diferentes.\n",
    "- **Encontrar informações relevantes de forma eficiente**: localizar rapidamente o conteúdo mais relevante em grandes volumes de texto.\n"
   ]
  },
  {
   "cell_type": "code",
   "execution_count": null,
   "id": "2604809c",
   "metadata": {},
   "outputs": [],
   "source": [
    "# prepara seu ambiente para gerar embeddings de textos usando o modelo Gemini da Google, autenticando sua aplicação com a chave da API.\n",
    "embeddings = GoogleGenerativeAIEmbeddings(\n",
    "    model=\"models/gemini-embedding-001\",\n",
    "    google_api_key=GOOGLE_API_KEY\n",
    ")"
   ]
  },
  {
   "cell_type": "code",
   "execution_count": 28,
   "id": "32e9bbed",
   "metadata": {},
   "outputs": [],
   "source": [
    "#FAISS é uma biblioteca desenvolvida pelo Facebook (Meta) para indexação e busca rápida de vetores.\n",
    "from langchain_community.vectorstores import FAISS\n",
    "vectorstore = FAISS.from_documents(chunks, embeddings)\n",
    "retriever = vectorstore.as_retriever(search_type=\"similarity_score_threshold\",\n",
    "                                     search_kwargs={\"score_threshold\":0.3, \"k\": 4})"
   ]
  },
  {
   "cell_type": "markdown",
   "id": "1e5f4659",
   "metadata": {},
   "source": [
    "# Fluxo Completo: PDF → Resposta com FAISS e Retriever\n",
    "\n",
    "1. **Chunks**  \n",
    "   - Divididos do PDF usando `RecursiveCharacterTextSplitter`.  \n",
    "   - Cada chunk é um pedaço menor de texto, facilitando o processamento.\n",
    "\n",
    "2. **Embeddings**  \n",
    "   - Cada chunk é transformado em um **vetor numérico** usando `GoogleGenerativeAIEmbeddings`.  \n",
    "   - Esses vetores representam semanticamente o texto, permitindo comparações e buscas.\n",
    "\n",
    "3. **Vectorstore (FAISS)**  \n",
    "   - Armazena todos os vetores em um **índice rápido** para buscas semânticas eficientes.  \n",
    "   - Funciona como um banco de dados de vetores.\n",
    "\n",
    "4. **Retriever**  \n",
    "   - Transforma o índice FAISS em um **mecanismo de busca** que responde perguntas.  \n",
    "   - Retorna os chunks mais relevantes de acordo com a **similaridade semântica**.\n"
   ]
  },
  {
   "cell_type": "code",
   "execution_count": 30,
   "id": "bab0f899",
   "metadata": {},
   "outputs": [],
   "source": [
    "from langchain_core.prompts import ChatPromptTemplate #permite criar prompts personalizados para chats\n",
    "from langchain.chains.combine_documents import create_stuff_documents_chain #combina vários chunks/documentos em uma resposta única usando um LLM.\n"
   ]
  }
 ],
 "metadata": {
  "kernelspec": {
   "display_name": ".venv",
   "language": "python",
   "name": "python3"
  },
  "language_info": {
   "codemirror_mode": {
    "name": "ipython",
    "version": 3
   },
   "file_extension": ".py",
   "mimetype": "text/x-python",
   "name": "python",
   "nbconvert_exporter": "python",
   "pygments_lexer": "ipython3",
   "version": "3.13.2"
  }
 },
 "nbformat": 4,
 "nbformat_minor": 5
}
